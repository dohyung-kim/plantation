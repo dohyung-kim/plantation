{
  "nbformat": 4,
  "nbformat_minor": 0,
  "metadata": {
    "kernelspec": {
      "display_name": "Python 2",
      "language": "python",
      "name": "python2"
    },
    "language_info": {
      "codemirror_mode": {
        "name": "ipython",
        "version": 2
      },
      "file_extension": ".py",
      "mimetype": "text/x-python",
      "name": "python",
      "nbconvert_exporter": "python",
      "pygments_lexer": "ipython2",
      "version": "2.7.12"
    },
    "colab": {
      "name": "gee_plantation_landsat.ipynb",
      "provenance": []
    }
  },
  "cells": [
    {
      "cell_type": "code",
      "metadata": {
        "id": "rOjlUgy2IS44"
      },
      "source": [
        "import ee\n",
        "ee.Initialize()\n",
        "import pandas as pd"
      ],
      "execution_count": null,
      "outputs": []
    },
    {
      "cell_type": "code",
      "metadata": {
        "id": "3GrpNQdQIS5A"
      },
      "source": [
        "tile_file = \"gee_tile_select.csv\"\n",
        "data = pd.read_csv(tile_file)\n",
        "minx = data['left']\n",
        "maxy = data['top']\n",
        "maxx = data['right']\n",
        "miny = data['bottom']\n",
        "tile_id =data[\"id\"]\n",
        "size_data = len(minx)"
      ],
      "execution_count": null,
      "outputs": []
    },
    {
      "cell_type": "code",
      "metadata": {
        "id": "h7MzYWMqIS5F"
      },
      "source": [
        "def start_process(i):\n",
        "    #define start data and end date, get area exgtent for each tile\n",
        "    s_date = '2015-01-01'\n",
        "    e_date = '2016-01-01'\n",
        "    area = ee.Geometry.Rectangle([minx[i], maxy[i], maxx[i], miny[i]])\n",
        "    tile_name = 'plantation_' + str(tile_id[i])\n",
        "    \n",
        "    #entropy\n",
        "    #Define a neighborhood with a kernel.\n",
        "    entropy_args = {'radius': 4}\n",
        "    square = ee.Kernel.square(**entropy_args)\n",
        "    \n",
        "    #define image objects\n",
        "    gain = ee.Image('UMD/hansen/global_forest_change_2017_v1_5').select('gain')\n",
        "    vcf = ee.Image('UMD/hansen/global_forest_change_2017_v1_5').select('treecover2000')\n",
        "    lossyear = ee.Image('UMD/hansen/global_forest_change_2017_v1_5').select('lossyear')\n",
        "    landsat = ee.Image('UMD/hansen/global_forest_change_2015').select('last_b30','last_b40','last_b50','last_b70')\n",
        "    cropDominance = ee.Image('USGS/GFSAD1000_V0').select('landcover')   \n",
        "    nir = landsat.select('last_b30')\n",
        "    nir_entropy = nir.entropy(square)\n",
        "\n",
        "    zones = gain.eq(1).And((lossyear.lt(12)).Or(lossyear.gt(16)))\n",
        "    zones = zones.updateMask(zones)\n",
        "    \n",
        "    #reduce raster to polygons\n",
        "    reduce_combine_args = {\n",
        "      'reducer2': ee.Reducer.stdDev(),\n",
        "      'sharedInputs': True\n",
        "    }\n",
        "    reducers = ee.Reducer.mean().combine(**reduce_combine_args);\n",
        "    \n",
        "    reduce_args = {\n",
        "      'geometry': area,\n",
        "      'crs': gain.projection(),\n",
        "      'scale': 30,\n",
        "      'geometryType': 'polygon',\n",
        "      'eightConnected': True,\n",
        "      'labelProperty': 'regrowth',\n",
        "      'reducer': reducers,\n",
        "      'bestEffort': True,\n",
        "      'maxPixels': 1e18\n",
        "    }\n",
        "\n",
        "    vectors = zones.addBands(landsat).addBands(vcf).addBands(lossyear).addBands(cropDominance).addBands(nir_entropy).reduceToVectors(**reduce_args)\n",
        "   \n",
        "    featureCollection = ee.FeatureCollection([vectors]).flatten()\n",
        "    \n",
        "    down_args = {\n",
        "    'collection': featureCollection,\n",
        "    'folder': 'plantation_landsat_2015_v3',\n",
        "    'description': tile_name,\n",
        "    'fileFormat': 'KML'\n",
        "    }\n",
        "    task = ee.batch.Export.table.toDrive(**down_args)\n",
        "    task.start()"
      ],
      "execution_count": null,
      "outputs": []
    },
    {
      "cell_type": "code",
      "metadata": {
        "id": "KfxuP34PIS5N"
      },
      "source": [
        "#loop through tiles\n",
        "for i in range(0,size_data):\n",
        "    start_process(i)"
      ],
      "execution_count": null,
      "outputs": []
    },
    {
      "cell_type": "code",
      "metadata": {
        "id": "srw1qbaPIS5W"
      },
      "source": [
        ""
      ],
      "execution_count": null,
      "outputs": []
    }
  ]
}