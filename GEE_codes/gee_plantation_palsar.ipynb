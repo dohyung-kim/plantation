{
  "nbformat": 4,
  "nbformat_minor": 0,
  "metadata": {
    "kernelspec": {
      "display_name": "Python 2",
      "language": "python",
      "name": "python2"
    },
    "language_info": {
      "codemirror_mode": {
        "name": "ipython",
        "version": 2
      },
      "file_extension": ".py",
      "mimetype": "text/x-python",
      "name": "python",
      "nbconvert_exporter": "python",
      "pygments_lexer": "ipython2",
      "version": "2.7.12"
    },
    "colab": {
      "name": "gee_plantation_palsar.ipynb",
      "provenance": []
    }
  },
  "cells": [
    {
      "cell_type": "code",
      "metadata": {
        "id": "fGDYoM3hJEyR"
      },
      "source": [
        "import ee\n",
        "ee.Initialize()\n",
        "import pandas as pd"
      ],
      "execution_count": null,
      "outputs": []
    },
    {
      "cell_type": "code",
      "metadata": {
        "id": "CRZNT1fHJEyX"
      },
      "source": [
        "tile_file = \"gee_tile_select.csv\"\n",
        "data = pd.read_csv(tile_file)\n",
        "minx = data['left']\n",
        "maxy = data['top']\n",
        "maxx = data['right']\n",
        "miny = data['bottom']\n",
        "tile_id =data[\"id\"]\n",
        "size_data = len(minx)"
      ],
      "execution_count": null,
      "outputs": []
    },
    {
      "cell_type": "code",
      "metadata": {
        "id": "-b6uY8ynJEya"
      },
      "source": [
        "def start_process(i):\n",
        "    #start data, end date and extent\n",
        "    s_date = '2015-01-01'\n",
        "    e_date = '2016-01-01'\n",
        "    area = ee.Geometry.Rectangle([minx[i], maxy[i], maxx[i], miny[i]])\n",
        "    tile_name = 'plantation_' + str(tile_id[i])\n",
        "    \n",
        "    #entropy\n",
        "    #Define a neighborhood with a kernel.\n",
        "    entropy_args = {'radius': 4}\n",
        "    square = ee.Kernel.square(**entropy_args)\n",
        "    \n",
        "    #define image objects\n",
        "    gain = ee.Image('UMD/hansen/global_forest_change_2017_v1_5').select('gain')\n",
        "    lossyear = ee.Image('UMD/hansen/global_forest_change_2017_v1_5').select('lossyear')\n",
        "\n",
        "    \n",
        "    ##PALSAR\n",
        "    palsar = ee.ImageCollection('JAXA/ALOS/PALSAR/YEARLY/SAR').filter(ee.Filter.date(s_date, e_date))\n",
        "    palsar_HH = palsar.select('HH').mean()\n",
        "    palsar_HV = palsar.select('HV').mean()\n",
        "    palsar_HV_entropy = palsar_HV.int().entropy(square)\n",
        "\n",
        "    ##filter using loss year\n",
        "    zones = gain.eq(1).And((lossyear.lt(12)).Or(lossyear.gt(16)))\n",
        "    zones = zones.updateMask(zones)\n",
        "\n",
        "    #reduce raster to polygons\n",
        "    reduce_combine_args = {\n",
        "      'reducer2': ee.Reducer.stdDev(),\n",
        "      'sharedInputs': True\n",
        "    }\n",
        "    reducers = ee.Reducer.mean().combine(**reduce_combine_args);\n",
        "    \n",
        "    reduce_args = {\n",
        "      'geometry': area,\n",
        "      'crs': gain.projection(),\n",
        "      'scale': 30,\n",
        "      'geometryType': 'polygon',\n",
        "      'eightConnected': True,\n",
        "      'labelProperty': 'regrowth',\n",
        "      'reducer': reducers,\n",
        "      'bestEffort': True,\n",
        "      'maxPixels': 1e18\n",
        "    }\n",
        "\n",
        "    #palsar bands\n",
        "    vectors = zones.addBands(palsar_HH).addBands(palsar_HV).addBands(palsar_HV_entropy).reduceToVectors(**reduce_args)\n",
        "   \n",
        "    featureCollection = ee.FeatureCollection([vectors]).flatten()\n",
        "    \n",
        "    down_args = {\n",
        "    'collection': featureCollection,\n",
        "    'folder': 'plantation_palsar_2015_v3',\n",
        "    'description': tile_name,\n",
        "    'fileFormat': 'KML'\n",
        "    }\n",
        "    task = ee.batch.Export.table.toDrive(**down_args)\n",
        "    task.start()"
      ],
      "execution_count": null,
      "outputs": []
    },
    {
      "cell_type": "code",
      "metadata": {
        "id": "p1bQ2ir6JEyd"
      },
      "source": [
        "#loop through tiles 10674 processed\n",
        "for i in range(0,size_data):\n",
        "    start_process(i)"
      ],
      "execution_count": 1,
      "outputs": []
    }
  ]
}