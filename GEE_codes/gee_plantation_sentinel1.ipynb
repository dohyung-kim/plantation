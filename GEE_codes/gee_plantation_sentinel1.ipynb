{
  "nbformat": 4,
  "nbformat_minor": 0,
  "metadata": {
    "kernelspec": {
      "display_name": "Python 2",
      "language": "python",
      "name": "python2"
    },
    "language_info": {
      "codemirror_mode": {
        "name": "ipython",
        "version": 2
      },
      "file_extension": ".py",
      "mimetype": "text/x-python",
      "name": "python",
      "nbconvert_exporter": "python",
      "pygments_lexer": "ipython2",
      "version": "2.7.12"
    },
    "colab": {
      "name": "gee_plantation_sentinel1.ipynb",
      "provenance": []
    }
  },
  "cells": [
    {
      "cell_type": "code",
      "metadata": {
        "id": "AiZtVAX-Iy5t"
      },
      "source": [
        "import ee\n",
        "ee.Initialize()\n",
        "import pandas as pd"
      ],
      "execution_count": null,
      "outputs": []
    },
    {
      "cell_type": "code",
      "metadata": {
        "id": "VM9tiLAlIy5x"
      },
      "source": [
        "tile_file = \"gee_tile_select.csv\"\n",
        "data = pd.read_csv(tile_file)\n",
        "minx = data['left']\n",
        "maxy = data['top']\n",
        "maxx = data['right']\n",
        "miny = data['bottom']\n",
        "tile_id =data[\"id\"]\n",
        "size_data = len(minx)"
      ],
      "execution_count": null,
      "outputs": []
    },
    {
      "cell_type": "code",
      "metadata": {
        "id": "Xr-8VvysIy51"
      },
      "source": [
        "def start_process(i):\n",
        "    #define start and end date, extent\n",
        "    s_date = '2015-01-01'\n",
        "    e_date = '2016-01-01'\n",
        "    area = ee.Geometry.Rectangle([minx[i], maxy[i], maxx[i], miny[i]])\n",
        "    tile_name = 'plantation_' + str(tile_id[i])\n",
        "    \n",
        "    #entropy\n",
        "    #Define a neighborhood with a kernel.\n",
        "    entropy_args = {'radius': 4}\n",
        "    square = ee.Kernel.square(**entropy_args)\n",
        "    \n",
        "    #define image objects\n",
        "    gain = ee.Image('UMD/hansen/global_forest_change_2017_v1_5').select('gain')\n",
        "    lossyear = ee.Image('UMD/hansen/global_forest_change_2017_v1_5').select('lossyear')\n",
        "\n",
        "    \n",
        "    ##Sentinel band processing\n",
        "    ##Filter to get images with VV and VH dual polarization.\n",
        "    ##Filter to get images collected in interferometric wide swath mode.\n",
        "    sentinel1 = ee.ImageCollection('COPERNICUS/S1_GRD').filter(ee.Filter.date(s_date, e_date))\n",
        "    vh = sentinel1.filter(ee.Filter.listContains('transmitterReceiverPolarisation', 'VV')).filter(ee.Filter.listContains('transmitterReceiverPolarisation', 'VH')).filter(ee.Filter.eq('instrumentMode', 'IW'))\n",
        "    vhAscending = vh.filter(ee.Filter.eq('orbitProperties_pass', 'ASCENDING'))\n",
        "    vhDescending = vh.filter(ee.Filter.eq('orbitProperties_pass', 'DESCENDING'))\n",
        "    sentinel1_VH = ee.ImageCollection(vhAscending.select('VH').merge(vhDescending.select('VH'))).mean()\n",
        "    sentinel1_VV = ee.ImageCollection(vhAscending.select('VV').merge(vhDescending.select('VV'))).mean()\n",
        "    sentinel1_VH_entropy = sentinel1_VH.int().entropy(square)\n",
        "    \n",
        "    zones = gain.eq(1).And((lossyear.lt(12)).Or(lossyear.gt(16)))\n",
        "    zones = zones.updateMask(zones)\n",
        "\n",
        "    #reduce raster to polygons\n",
        "    reduce_combine_args = {\n",
        "      'reducer2': ee.Reducer.stdDev(),\n",
        "      'sharedInputs': True\n",
        "    }\n",
        "    reducers = ee.Reducer.mean().combine(**reduce_combine_args);\n",
        "    \n",
        "    reduce_args = {\n",
        "      'geometry': area,\n",
        "      'crs': gain.projection(),\n",
        "      'scale': 100,\n",
        "      'geometryType': 'polygon',\n",
        "      'eightConnected': True,\n",
        "      'labelProperty': 'regrowth',\n",
        "      'reducer': reducers,\n",
        "      'bestEffort': True,\n",
        "      'maxPixels': 1e18\n",
        "    }\n",
        "\n",
        "    #sentinel1 bands\n",
        "    vectors = zones.addBands(sentinel1_VH).addBands(sentinel1_VV).addBands(sentinel1_VH_entropy).reduceToVectors(**reduce_args)\n",
        "   \n",
        "    featureCollection = ee.FeatureCollection([vectors]).flatten()\n",
        "    \n",
        "    down_args = {\n",
        "    'collection': featureCollection,\n",
        "    'folder': 'plantation_sentinel1_2015_v3',\n",
        "    'description': tile_name,\n",
        "    'fileFormat': 'KML'\n",
        "    }\n",
        "    task = ee.batch.Export.table.toDrive(**down_args)\n",
        "    task.start()"
      ],
      "execution_count": null,
      "outputs": []
    },
    {
      "cell_type": "code",
      "metadata": {
        "id": "C6AO_jGaIy54"
      },
      "source": [
        "#loop through tiles\n",
        "for i in range(1,size_data):\n",
        "    start_process(i)"
      ],
      "execution_count": 1,
      "outputs": []
    },
    {
      "cell_type": "code",
      "metadata": {
        "id": "FFqHUkDsIy5_"
      },
      "source": [
        ""
      ],
      "execution_count": null,
      "outputs": []
    }
  ]
}